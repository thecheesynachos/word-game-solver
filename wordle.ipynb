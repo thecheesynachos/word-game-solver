{
 "cells": [
  {
   "cell_type": "code",
   "execution_count": 1,
   "id": "772758d3",
   "metadata": {},
   "outputs": [],
   "source": [
    "import random\n",
    "import os\n",
    "import matplotlib.pyplot as plt\n",
    "import tqdm"
   ]
  },
  {
   "cell_type": "code",
   "execution_count": null,
   "id": "9507af82",
   "metadata": {},
   "outputs": [],
   "source": []
  },
  {
   "cell_type": "markdown",
   "id": "1cca9d6f",
   "metadata": {},
   "source": [
    "# Wordle Solver\n",
    "\n",
    "All the logic in here, but it might be a bit messy"
   ]
  },
  {
   "cell_type": "markdown",
   "id": "dfc22d71",
   "metadata": {},
   "source": [
    "## Loading the words"
   ]
  },
  {
   "cell_type": "code",
   "execution_count": 118,
   "id": "74de3781",
   "metadata": {},
   "outputs": [],
   "source": [
    "word_len = 5\n",
    "rounds = 5000"
   ]
  },
  {
   "cell_type": "code",
   "execution_count": 6,
   "id": "3086a778",
   "metadata": {},
   "outputs": [
    {
     "name": "stdout",
     "output_type": "stream",
     "text": [
      "File exists\n"
     ]
    },
    {
     "data": {
      "text/plain": [
       "8938"
      ]
     },
     "execution_count": 6,
     "metadata": {},
     "output_type": "execute_result"
    }
   ],
   "source": [
    "if os.path.isfile(f'./{word_len}_letter_words.txt'):\n",
    "    \n",
    "    print('File exists')\n",
    "    # if already have 5-letter word file, then read from file\n",
    "    with open(f'./{word_len}_letter_words.txt', 'r') as f:\n",
    "        words = [x.strip() for x in f.readlines()]\n",
    "\n",
    "else:\n",
    "    \n",
    "    print('File missing')\n",
    "    # if no 5-letter word file, have to generate it first\n",
    "    # get words\n",
    "    # list taken from https://github.com/raun/Scrabble/blob/master/words.txt - words from scrabble\n",
    "    words = []\n",
    "\n",
    "    with open('./words.txt') as f:\n",
    "        for w in f.readlines():\n",
    "            w = w.strip().lower()\n",
    "            if len(w) == word_len:\n",
    "                words.append(w)\n",
    "\n",
    "    print(len(words))\n",
    "\n",
    "    # save file out\n",
    "    with open(f'./{word_len}_letter_words.txt', 'w+') as f:\n",
    "        for w in words:\n",
    "            f.write(w)\n",
    "            f.write('\\n')\n",
    "            \n",
    "len(words)"
   ]
  },
  {
   "cell_type": "code",
   "execution_count": 4,
   "id": "2bd4a8d7",
   "metadata": {},
   "outputs": [],
   "source": []
  },
  {
   "cell_type": "markdown",
   "id": "5646f5f6",
   "metadata": {},
   "source": [
    "## Function to get the hint "
   ]
  },
  {
   "cell_type": "code",
   "execution_count": 49,
   "id": "c2570541",
   "metadata": {},
   "outputs": [],
   "source": [
    "# encoding method\n",
    "# - means this letter doesnt exist\n",
    "# X means this letter exist but in wrong place\n",
    "# O means this letter in the correct place\n",
    "\n",
    "def get_hint(target, guess):\n",
    "    target_lst = list(target)\n",
    "    hint = ['-' for _ in range(word_len)]\n",
    "    for i in range(word_len):\n",
    "        if guess[i] == target_lst[i]:\n",
    "            hint[i] = 'O'\n",
    "            target_lst[i] = None\n",
    "    for i in range(word_len):\n",
    "        if hint[i] == '-':\n",
    "            for j in range(word_len):\n",
    "                if guess[i] == target_lst[j]:\n",
    "                    hint[i] = 'X'\n",
    "                    target_lst[j] = None\n",
    "                    break\n",
    "    return \"\".join(hint)"
   ]
  },
  {
   "cell_type": "code",
   "execution_count": 50,
   "id": "eb581b95",
   "metadata": {},
   "outputs": [
    {
     "data": {
      "text/plain": [
       "'O--OO'"
      ]
     },
     "execution_count": 50,
     "metadata": {},
     "output_type": "execute_result"
    }
   ],
   "source": [
    "get_hint('tapes', 'tyres')"
   ]
  },
  {
   "cell_type": "code",
   "execution_count": 51,
   "id": "697538cd",
   "metadata": {},
   "outputs": [
    {
     "data": {
      "text/plain": [
       "'OX-XO'"
      ]
     },
     "execution_count": 51,
     "metadata": {},
     "output_type": "execute_result"
    }
   ],
   "source": [
    "get_hint('tests', 'tspes')"
   ]
  },
  {
   "cell_type": "code",
   "execution_count": 52,
   "id": "41dfde71",
   "metadata": {},
   "outputs": [
    {
     "data": {
      "text/plain": [
       "'OO-OX'"
      ]
     },
     "execution_count": 52,
     "metadata": {},
     "output_type": "execute_result"
    }
   ],
   "source": [
    "get_hint('aabbc', 'aaabb')"
   ]
  },
  {
   "cell_type": "code",
   "execution_count": 53,
   "id": "aed38cc4",
   "metadata": {},
   "outputs": [
    {
     "data": {
      "text/plain": [
       "'---O-'"
      ]
     },
     "execution_count": 53,
     "metadata": {},
     "output_type": "execute_result"
    }
   ],
   "source": [
    "get_hint('noses', 'adeem')"
   ]
  },
  {
   "cell_type": "code",
   "execution_count": null,
   "id": "11e2a3f3",
   "metadata": {},
   "outputs": [],
   "source": []
  },
  {
   "cell_type": "markdown",
   "id": "c2067550",
   "metadata": {},
   "source": [
    "## Precomputing the hints and saving to a file (if wanted)"
   ]
  },
  {
   "cell_type": "code",
   "execution_count": 54,
   "id": "42c00273",
   "metadata": {},
   "outputs": [
    {
     "name": "stderr",
     "output_type": "stream",
     "text": [
      "\r",
      "  0%|          | 0/8938 [00:00<?, ?it/s]"
     ]
    },
    {
     "name": "stdout",
     "output_type": "stream",
     "text": [
      "File missing\n"
     ]
    },
    {
     "name": "stderr",
     "output_type": "stream",
     "text": [
      "100%|██████████| 8938/8938 [10:10<00:00, 14.64it/s]  \n"
     ]
    }
   ],
   "source": [
    "if os.path.isfile('hints.txt'):\n",
    "    \n",
    "    print('File exists')\n",
    "    # load precomputation\n",
    "    hint_dict = dict()\n",
    "    with open('hints.txt', 'r') as f:\n",
    "        for ln in f.readlines():\n",
    "            targ, guess, hint = ln.strip().split(' ')\n",
    "            hint_dict[targ, guess] = hint\n",
    "            \n",
    "else:\n",
    "    \n",
    "    print('File missing')\n",
    "    # do precomputation\n",
    "    hint_dict = dict()\n",
    "    for targ in tqdm.tqdm(words):\n",
    "        for guess in words:\n",
    "            hint_dict[targ, guess] = get_hint(targ, guess)\n",
    "            \n",
    "    # save the precomputation out\n",
    "    # warning - file gets quite big (1.4GB), so comment out if don't want to save\n",
    "\n",
    "    with open('hints.txt', 'w+') as f:\n",
    "        for targ, guess in hint_dict.keys():\n",
    "            f.write(f'{targ} {guess} {hint_dict[targ, guess]}\\n')"
   ]
  },
  {
   "cell_type": "code",
   "execution_count": 55,
   "id": "5480a458",
   "metadata": {},
   "outputs": [
    {
     "data": {
      "text/plain": [
       "'OO-X-'"
      ]
     },
     "execution_count": 55,
     "metadata": {},
     "output_type": "execute_result"
    }
   ],
   "source": [
    "hint_dict['table', 'tapes']"
   ]
  },
  {
   "cell_type": "code",
   "execution_count": null,
   "id": "911ff475",
   "metadata": {},
   "outputs": [],
   "source": []
  },
  {
   "cell_type": "markdown",
   "id": "487e85b9",
   "metadata": {},
   "source": [
    "## Define the game \n",
    "\n",
    "It randomises a word, and also gives hints when a guess is made. It also keeps a list of the words still feasible after a guess is made."
   ]
  },
  {
   "cell_type": "code",
   "execution_count": 127,
   "id": "e4d53b31",
   "metadata": {},
   "outputs": [],
   "source": [
    "class Game:\n",
    "    \n",
    "    def __init__(self):\n",
    "        self.ans = random.choice(words)\n",
    "        self.guesses = []\n",
    "        self.possible_words = list(words)\n",
    "        self.turns = 0\n",
    "        \n",
    "    def make_guess(self, guess):\n",
    "        hint = hint_dict[self.ans, guess]\n",
    "        new_possible = []\n",
    "        for w in self.possible_words:\n",
    "            if hint_dict[w, guess] == hint:\n",
    "                new_possible.append(w)\n",
    "        self.possible_words = new_possible\n",
    "        self.guesses.append((guess, hint))\n",
    "        self.turns += 1\n",
    "        return hint\n",
    "    \n",
    "    def finished(self):\n",
    "        return len(self.possible_words) <= 1 and len(self.guesses) > 0 and self.guesses[-1][1] == 'OOOOO'"
   ]
  },
  {
   "cell_type": "markdown",
   "id": "aad9a79d",
   "metadata": {},
   "source": [
    "Cmd-line to play against machine"
   ]
  },
  {
   "cell_type": "code",
   "execution_count": 178,
   "id": "ec73be23",
   "metadata": {},
   "outputs": [
    {
     "name": "stdout",
     "output_type": "stream",
     "text": [
      "Turn 1 | You guess: maths\n",
      "Turn 1 | Hint:      -O---\n",
      "Turn 2 | You guess: walks\n",
      "Turn 2 | Hint:      -OX--\n",
      "Turn 3 | You guess: crane\n",
      "Turn 3 | Hint:      --X-O\n",
      "Turn 4 | You guess: taped\n",
      "Turn 4 | Hint:      -O-X-\n"
     ]
    },
    {
     "ename": "KeyboardInterrupt",
     "evalue": "Interrupted by user",
     "output_type": "error",
     "traceback": [
      "\u001b[0;31m---------------------------------------------------------------------------\u001b[0m",
      "\u001b[0;31mKeyboardInterrupt\u001b[0m                         Traceback (most recent call last)",
      "\u001b[0;32m<ipython-input-178-56d5e896510e>\u001b[0m in \u001b[0;36m<module>\u001b[0;34m\u001b[0m\n\u001b[1;32m      3\u001b[0m \u001b[0;32mwhile\u001b[0m \u001b[0;32mnot\u001b[0m \u001b[0mg\u001b[0m\u001b[0;34m.\u001b[0m\u001b[0mfinished\u001b[0m\u001b[0;34m(\u001b[0m\u001b[0;34m)\u001b[0m\u001b[0;34m:\u001b[0m\u001b[0;34m\u001b[0m\u001b[0;34m\u001b[0m\u001b[0m\n\u001b[1;32m      4\u001b[0m     \u001b[0mguess\u001b[0m \u001b[0;34m=\u001b[0m \u001b[0mbetter_strat\u001b[0m\u001b[0;34m(\u001b[0m\u001b[0mrg\u001b[0m\u001b[0;34m,\u001b[0m \u001b[0muse_all_words\u001b[0m\u001b[0;34m=\u001b[0m\u001b[0;32mTrue\u001b[0m\u001b[0;34m)\u001b[0m\u001b[0;34m\u001b[0m\u001b[0;34m\u001b[0m\u001b[0m\n\u001b[0;32m----> 5\u001b[0;31m     \u001b[0mguess\u001b[0m \u001b[0;34m=\u001b[0m \u001b[0minput\u001b[0m\u001b[0;34m(\u001b[0m\u001b[0;34mf'Turn {turn} | You guess: '\u001b[0m\u001b[0;34m)\u001b[0m\u001b[0;34m\u001b[0m\u001b[0;34m\u001b[0m\u001b[0m\n\u001b[0m\u001b[1;32m      6\u001b[0m     \u001b[0mhint\u001b[0m \u001b[0;34m=\u001b[0m \u001b[0mg\u001b[0m\u001b[0;34m.\u001b[0m\u001b[0mmake_guess\u001b[0m\u001b[0;34m(\u001b[0m\u001b[0mguess\u001b[0m\u001b[0;34m)\u001b[0m\u001b[0;34m\u001b[0m\u001b[0;34m\u001b[0m\u001b[0m\n\u001b[1;32m      7\u001b[0m     \u001b[0mprint\u001b[0m\u001b[0;34m(\u001b[0m\u001b[0;34mf'Turn {turn} | Hint:      {hint}'\u001b[0m\u001b[0;34m)\u001b[0m\u001b[0;34m\u001b[0m\u001b[0;34m\u001b[0m\u001b[0m\n",
      "\u001b[0;32m~/anaconda3/envs/sandbox/lib/python3.7/site-packages/ipykernel/kernelbase.py\u001b[0m in \u001b[0;36mraw_input\u001b[0;34m(self, prompt)\u001b[0m\n\u001b[1;32m    849\u001b[0m             \u001b[0mself\u001b[0m\u001b[0;34m.\u001b[0m\u001b[0m_parent_ident\u001b[0m\u001b[0;34m,\u001b[0m\u001b[0;34m\u001b[0m\u001b[0;34m\u001b[0m\u001b[0m\n\u001b[1;32m    850\u001b[0m             \u001b[0mself\u001b[0m\u001b[0;34m.\u001b[0m\u001b[0m_parent_header\u001b[0m\u001b[0;34m,\u001b[0m\u001b[0;34m\u001b[0m\u001b[0;34m\u001b[0m\u001b[0m\n\u001b[0;32m--> 851\u001b[0;31m             \u001b[0mpassword\u001b[0m\u001b[0;34m=\u001b[0m\u001b[0;32mFalse\u001b[0m\u001b[0;34m,\u001b[0m\u001b[0;34m\u001b[0m\u001b[0;34m\u001b[0m\u001b[0m\n\u001b[0m\u001b[1;32m    852\u001b[0m         )\n\u001b[1;32m    853\u001b[0m \u001b[0;34m\u001b[0m\u001b[0m\n",
      "\u001b[0;32m~/anaconda3/envs/sandbox/lib/python3.7/site-packages/ipykernel/kernelbase.py\u001b[0m in \u001b[0;36m_input_request\u001b[0;34m(self, prompt, ident, parent, password)\u001b[0m\n\u001b[1;32m    890\u001b[0m             \u001b[0;32mexcept\u001b[0m \u001b[0mKeyboardInterrupt\u001b[0m\u001b[0;34m:\u001b[0m\u001b[0;34m\u001b[0m\u001b[0;34m\u001b[0m\u001b[0m\n\u001b[1;32m    891\u001b[0m                 \u001b[0;31m# re-raise KeyboardInterrupt, to truncate traceback\u001b[0m\u001b[0;34m\u001b[0m\u001b[0;34m\u001b[0m\u001b[0;34m\u001b[0m\u001b[0m\n\u001b[0;32m--> 892\u001b[0;31m                 \u001b[0;32mraise\u001b[0m \u001b[0mKeyboardInterrupt\u001b[0m\u001b[0;34m(\u001b[0m\u001b[0;34m\"Interrupted by user\"\u001b[0m\u001b[0;34m)\u001b[0m \u001b[0;32mfrom\u001b[0m \u001b[0;32mNone\u001b[0m\u001b[0;34m\u001b[0m\u001b[0;34m\u001b[0m\u001b[0m\n\u001b[0m\u001b[1;32m    893\u001b[0m             \u001b[0;32mexcept\u001b[0m \u001b[0mException\u001b[0m \u001b[0;32mas\u001b[0m \u001b[0me\u001b[0m\u001b[0;34m:\u001b[0m\u001b[0;34m\u001b[0m\u001b[0;34m\u001b[0m\u001b[0m\n\u001b[1;32m    894\u001b[0m                 \u001b[0mself\u001b[0m\u001b[0;34m.\u001b[0m\u001b[0mlog\u001b[0m\u001b[0;34m.\u001b[0m\u001b[0mwarning\u001b[0m\u001b[0;34m(\u001b[0m\u001b[0;34m\"Invalid Message:\"\u001b[0m\u001b[0;34m,\u001b[0m \u001b[0mexc_info\u001b[0m\u001b[0;34m=\u001b[0m\u001b[0;32mTrue\u001b[0m\u001b[0;34m)\u001b[0m\u001b[0;34m\u001b[0m\u001b[0;34m\u001b[0m\u001b[0m\n",
      "\u001b[0;31mKeyboardInterrupt\u001b[0m: Interrupted by user"
     ]
    }
   ],
   "source": [
    "g = Game()\n",
    "turn = 1\n",
    "while not g.finished():\n",
    "    guess = better_strat(rg, use_all_words=True)\n",
    "    guess = input(f'Turn {turn} | You guess: ')\n",
    "    hint = g.make_guess(guess)\n",
    "    print(f'Turn {turn} | Hint:      {hint}')\n",
    "    turn += 1"
   ]
  },
  {
   "cell_type": "code",
   "execution_count": 128,
   "id": "cb149bc0",
   "metadata": {},
   "outputs": [
    {
     "data": {
      "text/plain": [
       "('mille', [('table', '---OO')], 33, 1)"
      ]
     },
     "execution_count": 128,
     "metadata": {},
     "output_type": "execute_result"
    }
   ],
   "source": [
    "g = Game()\n",
    "g.make_guess('table')\n",
    "g.ans, g.guesses, len(g.possible_words), g.turns"
   ]
  },
  {
   "cell_type": "code",
   "execution_count": null,
   "id": "1c2ddc6b",
   "metadata": {},
   "outputs": [],
   "source": []
  },
  {
   "cell_type": "markdown",
   "id": "bd5df9b7",
   "metadata": {},
   "source": [
    "## Baseline strategy - just guess a random feasible word"
   ]
  },
  {
   "cell_type": "code",
   "execution_count": 63,
   "id": "fd7f07e7",
   "metadata": {},
   "outputs": [],
   "source": [
    "def naive_strategy(game):\n",
    "    return random.choice(game.possible_words)"
   ]
  },
  {
   "cell_type": "code",
   "execution_count": 64,
   "id": "19ab7186",
   "metadata": {},
   "outputs": [
    {
     "name": "stdout",
     "output_type": "stream",
     "text": [
      "exine X-X--\n",
      "pieta -OX--\n",
      "sizes -O-O-\n",
      "cider -O-O-\n",
      "libel OO-O-\n",
      "limey OOOOO\n"
     ]
    }
   ],
   "source": [
    "g = Game()\n",
    "while not g.finished():\n",
    "    guess = naive_strategy(g)\n",
    "    hint = g.make_guess(guess)\n",
    "    print(guess, hint)"
   ]
  },
  {
   "cell_type": "code",
   "execution_count": 129,
   "id": "5ce61f0d",
   "metadata": {},
   "outputs": [
    {
     "name": "stderr",
     "output_type": "stream",
     "text": [
      "100%|██████████| 5000/5000 [04:40<00:00, 17.81it/s]\n"
     ]
    }
   ],
   "source": [
    "naive_results = [0.]\n",
    "\n",
    "for _ in tqdm.trange(rounds):\n",
    "    g = Game()\n",
    "    while not g.finished():\n",
    "        guess = naive_strategy(g)\n",
    "        hint = g.make_guess(guess)\n",
    "\n",
    "    while len(naive_results) <= g.turns:\n",
    "        naive_results.append(0.)\n",
    "    naive_results[g.turns] += 1."
   ]
  },
  {
   "cell_type": "code",
   "execution_count": 183,
   "id": "5c551ca7",
   "metadata": {},
   "outputs": [
    {
     "name": "stdout",
     "output_type": "stream",
     "text": [
      "Bad Method\n",
      "\n",
      "Mean number of guesses =  4.8882\n",
      "Games needing over six guesses =  579.0 out of 5000.0\n"
     ]
    },
    {
     "data": {
      "image/png": "[encoded data removed]",
      "text/plain": [
       "<Figure size 432x288 with 1 Axes>"
      ]
     },
     "metadata": {
      "needs_background": "light"
     },
     "output_type": "display_data"
    }
   ],
   "source": [
    "print('Bad Method')\n",
    "print()\n",
    "print('Mean number of guesses = ', sum(i * x for (i, x) in enumerate(naive_results)) / sum(naive_results))\n",
    "print('Games needing over six guesses = ', sum(naive_results[7:]), 'out of', sum(naive_results))\n",
    "plt.plot([x / sum(naive_results) for x in naive_results], '.-')\n",
    "plt.xlabel('Number of guesses needed')\n",
    "plt.ylabel('Fraction of games that requires that many guesses')\n",
    "plt.show()"
   ]
  },
  {
   "cell_type": "code",
   "execution_count": null,
   "id": "28e73954",
   "metadata": {},
   "outputs": [],
   "source": []
  },
  {
   "cell_type": "markdown",
   "id": "cfec3f6c",
   "metadata": {},
   "source": [
    "## Better strategy - guess the word that minimises remaining feasible word"
   ]
  },
  {
   "cell_type": "code",
   "execution_count": 162,
   "id": "3a70d2e7",
   "metadata": {},
   "outputs": [],
   "source": [
    "round_one_memorise = None     # memorise best first move\n",
    "round_two_memorise = dict()   # memorise best second move if we allow guessing any word\n",
    "\n",
    "\n",
    "def better_strat(game, use_all_words=False):\n",
    "    \n",
    "    global round_one_memorise  # too lazy to write properly so using global here\n",
    "    global round_two_memorise\n",
    "    \n",
    "    # can we use any precomputation\n",
    "    if game.turns == 0 and round_one_memorise is not None:\n",
    "        return round_one_memorise\n",
    "    elif game.turns == 1 and use_all_words:\n",
    "        first_round_hint = game.guesses[0][1]\n",
    "        if first_round_hint in round_two_memorise.keys():\n",
    "            return round_two_memorise[first_round_hint]\n",
    "    elif len(game.possible_words) == 1:\n",
    "        # one word left, just guess that word\n",
    "        return game.possible_words[0]\n",
    "\n",
    "    best_next_guess = None\n",
    "    best_score = len(game.possible_words) + 1\n",
    "    # iterate through all words to check, compute its expected remaining feasible words\n",
    "    for w in (words if use_all_words else game.possible_words):\n",
    "        counter = dict()\n",
    "        for targ in game.possible_words:\n",
    "            hint = hint_dict[targ, w]\n",
    "            if hint in counter.keys():\n",
    "                counter[hint] += 1\n",
    "            else:\n",
    "                counter[hint] = 1\n",
    "        score = sum(x**2 for x in counter.values()) / len(game.possible_words)\n",
    "        if score < best_score or (score == best_score and w in game.possible_words):  # prioritise words that are feasible\n",
    "            best_score = score\n",
    "            best_next_guess = w\n",
    "    \n",
    "    # if computed, get the value memorised\n",
    "    if game.turns == 0:\n",
    "        round_one_memorise = best_next_guess\n",
    "    elif game.turns == 1 and use_all_words:\n",
    "        round_two_memorise[first_round_hint] = best_next_guess\n",
    "            \n",
    "    return best_next_guess"
   ]
  },
  {
   "cell_type": "code",
   "execution_count": 163,
   "id": "30912ce4",
   "metadata": {},
   "outputs": [
    {
     "name": "stdout",
     "output_type": "stream",
     "text": [
      "lares -XXX-\n",
      "tread -XOO-\n",
      "anear OOOOO\n"
     ]
    }
   ],
   "source": [
    "g = Game()\n",
    "while not g.finished():\n",
    "    guess = better_strat(g)\n",
    "    hint = g.make_guess(guess)\n",
    "    print(guess, hint)"
   ]
  },
  {
   "cell_type": "code",
   "execution_count": 164,
   "id": "09d76cc5",
   "metadata": {},
   "outputs": [
    {
     "data": {
      "text/plain": [
       "'lares'"
      ]
     },
     "execution_count": 164,
     "metadata": {},
     "output_type": "execute_result"
    }
   ],
   "source": [
    "round_one_memorise"
   ]
  },
  {
   "cell_type": "code",
   "execution_count": null,
   "id": "f51caec8",
   "metadata": {},
   "outputs": [],
   "source": []
  },
  {
   "cell_type": "markdown",
   "id": "17bbfcdf",
   "metadata": {},
   "source": [
    "Testing for better method but only using feasible words"
   ]
  },
  {
   "cell_type": "code",
   "execution_count": 165,
   "id": "ccbe74fd",
   "metadata": {},
   "outputs": [
    {
     "name": "stderr",
     "output_type": "stream",
     "text": [
      "100%|██████████| 5000/5000 [06:46<00:00, 12.31it/s]\n"
     ]
    }
   ],
   "source": [
    "our_validonly_results = [0.]\n",
    "\n",
    "for _ in tqdm.trange(rounds):\n",
    "    g = Game()\n",
    "    while not g.finished():\n",
    "        guess = better_strat(g)\n",
    "        hint = g.make_guess(guess)\n",
    "        \n",
    "    while len(our_validonly_results) <= g.turns:\n",
    "        our_validonly_results.append(0.)\n",
    "    our_validonly_results[g.turns] += 1"
   ]
  },
  {
   "cell_type": "code",
   "execution_count": 185,
   "id": "ffcc4af0",
   "metadata": {},
   "outputs": [
    {
     "name": "stdout",
     "output_type": "stream",
     "text": [
      "Our method, but can only guess feasible words\n",
      "\n",
      "Mean number of guesses =  4.3906\n",
      "Number of games needing over six guesses =  367.0 out of 5000.0\n"
     ]
    },
    {
     "data": {
      "image/png": "[encoded data removed]",
      "text/plain": [
       "<Figure size 432x288 with 1 Axes>"
      ]
     },
     "metadata": {
      "needs_background": "light"
     },
     "output_type": "display_data"
    }
   ],
   "source": [
    "print('Our method, but can only guess feasible words')\n",
    "print()\n",
    "print('Mean number of guesses = ', sum(i * x for (i, x) in enumerate(our_validonly_results)) / sum(our_validonly_results))\n",
    "print('Number of games needing over six guesses = ', sum(our_validonly_results[7:]), 'out of', sum(our_validonly_results))\n",
    "plt.plot([x / sum(our_validonly_results) for x in our_validonly_results], '.-')\n",
    "plt.xlabel('Number of guesses needed')\n",
    "plt.ylabel('Fraction of games that requires that many guesses')\n",
    "plt.show()"
   ]
  },
  {
   "cell_type": "code",
   "execution_count": null,
   "id": "c3c98d76",
   "metadata": {},
   "outputs": [],
   "source": []
  },
  {
   "cell_type": "markdown",
   "id": "52a58919",
   "metadata": {},
   "source": [
    "Testing better method but allowing any words as a guess"
   ]
  },
  {
   "cell_type": "code",
   "execution_count": 198,
   "id": "276c19e0",
   "metadata": {},
   "outputs": [
    {
     "name": "stdout",
     "output_type": "stream",
     "text": [
      "lares ----X\n",
      "hoist --OX-\n",
      "spunk O--OO\n",
      "swink O-OOO\n",
      "skink OOOOO\n"
     ]
    }
   ],
   "source": [
    "g = Game()\n",
    "while not g.finished():\n",
    "    guess = better_strat(g, use_all_words=True)\n",
    "    hint = g.make_guess(guess)\n",
    "    print(guess, hint)"
   ]
  },
  {
   "cell_type": "code",
   "execution_count": 168,
   "id": "8b2ec2da",
   "metadata": {},
   "outputs": [
    {
     "name": "stderr",
     "output_type": "stream",
     "text": [
      "100%|██████████| 5000/5000 [14:36<00:00,  5.70it/s] \n"
     ]
    }
   ],
   "source": [
    "our_allwords_results = [0.]\n",
    "\n",
    "for _ in tqdm.trange(rounds):\n",
    "    g = Game()\n",
    "    while not g.finished():\n",
    "        guess = better_strat(g, use_all_words=True)\n",
    "        hint = g.make_guess(guess)\n",
    "        \n",
    "    while len(our_allwords_results) <= g.turns:\n",
    "        our_allwords_results.append(0.)\n",
    "    our_allwords_results[g.turns] += 1"
   ]
  },
  {
   "cell_type": "code",
   "execution_count": 186,
   "id": "6d648b7a",
   "metadata": {},
   "outputs": [
    {
     "name": "stdout",
     "output_type": "stream",
     "text": [
      "Our method, and the computer can guess any valid English word\n",
      "\n",
      "Mean number of guesses =  3.986\n",
      "Number of games needing over six guesses =  2.0 out of 5000.0\n"
     ]
    },
    {
     "data": {
      "image/png": "[encoded data removed]",
      "text/plain": [
       "<Figure size 432x288 with 1 Axes>"
      ]
     },
     "metadata": {
      "needs_background": "light"
     },
     "output_type": "display_data"
    }
   ],
   "source": [
    "print('Our method, and the computer can guess any valid English word')\n",
    "print()\n",
    "print('Mean number of guesses = ', sum(i * x for (i, x) in enumerate(our_allwords_results)) / sum(our_allwords_results))\n",
    "print('Number of games needing over six guesses = ', sum(our_allwords_results[7:]), 'out of', sum(our_allwords_results))\n",
    "plt.plot([x / sum(our_allwords_results) for x in our_allwords_results], '.-')\n",
    "plt.xlabel('Number of guesses needed')\n",
    "plt.ylabel('Fraction of games that requires that many guesses')\n",
    "plt.show()"
   ]
  },
  {
   "cell_type": "code",
   "execution_count": null,
   "id": "72bda304",
   "metadata": {},
   "outputs": [],
   "source": []
  },
  {
   "cell_type": "code",
   "execution_count": 188,
   "id": "666c77bf",
   "metadata": {},
   "outputs": [
    {
     "name": "stdout",
     "output_type": "stream",
     "text": [
      "Comparing number of guesses needed between each strategies\n"
     ]
    },
    {
     "data": {
      "image/png": "[encoded data removed]",
      "text/plain": [
       "<Figure size 432x288 with 1 Axes>"
      ]
     },
     "metadata": {
      "needs_background": "light"
     },
     "output_type": "display_data"
    }
   ],
   "source": [
    "print('Comparing number of guesses needed between each strategies')\n",
    "plt.plot([x / sum(naive_results) for x in naive_results],                 '.-', label='Bad method')\n",
    "plt.plot([x / sum(our_validonly_results) for x in our_validonly_results], '.-', label='Our method, feasible only')\n",
    "plt.plot([x / sum(our_allwords_results) for x in our_allwords_results],   '.-', label='Our method, all words')\n",
    "plt.legend()\n",
    "plt.xlabel('Number of guesses needed')\n",
    "plt.ylabel('Fraction of games that requires that many guesses')\n",
    "plt.show()"
   ]
  },
  {
   "cell_type": "code",
   "execution_count": 171,
   "id": "dfc8043c",
   "metadata": {},
   "outputs": [
    {
     "data": {
      "image/png": "[encoded data removed]",
      "text/plain": [
       "<Figure size 432x288 with 1 Axes>"
      ]
     },
     "metadata": {
      "needs_background": "light"
     },
     "output_type": "display_data"
    }
   ],
   "source": [
    "plt.plot([sum(naive_results[:i]) / sum(naive_results) for i in range(len(naive_results))],                         '.-', label='naive')\n",
    "plt.plot([sum(our_validonly_results[:i]) / sum(our_validonly_results) for i in range(len(our_validonly_results))], '.-', label='better_validonly')\n",
    "plt.plot([sum(our_allwords_results[:i]) / sum(our_allwords_results) for i in range(len(our_allwords_results))],    '.-', label='better_allwords')\n",
    "plt.legend()\n",
    "plt.show()"
   ]
  },
  {
   "cell_type": "code",
   "execution_count": null,
   "id": "f85d9543",
   "metadata": {},
   "outputs": [],
   "source": []
  },
  {
   "cell_type": "markdown",
   "id": "fb4c4871",
   "metadata": {},
   "source": [
    "## Reverse game - solver for the Wordle game as command line"
   ]
  },
  {
   "cell_type": "code",
   "execution_count": 152,
   "id": "d86e87ec",
   "metadata": {},
   "outputs": [],
   "source": [
    "class ReverseGame:\n",
    "    \n",
    "    def __init__(self):\n",
    "        self.guesses = []\n",
    "        self.possible_words = list(words)\n",
    "        self.turns = 0\n",
    "        \n",
    "    def update_hint(self, guess, hint):\n",
    "        new_possible = []\n",
    "        for w in self.possible_words:\n",
    "            if hint_dict[w, guess] == hint:\n",
    "                new_possible.append(w)\n",
    "        self.possible_words = new_possible\n",
    "        self.guesses.append((guess, hint))\n",
    "        self.turns += 1\n",
    "        return hint\n",
    "    \n",
    "    def finished(self):\n",
    "        return len(self.possible_words) <= 1 and len(self.guesses) > 0 and self.guesses[-1][1] == 'OOOOO'"
   ]
  },
  {
   "cell_type": "code",
   "execution_count": 172,
   "id": "fc6f7f32",
   "metadata": {},
   "outputs": [
    {
     "name": "stdout",
     "output_type": "stream",
     "text": [
      "Turn 1 | Possible words = 8938 | Computer guesses \"lares\" | Hint = -o---\n",
      "Turn 2 | Possible words =  252 | Computer guesses \"minty\" | Hint = --oxo\n",
      "Turn 3 | Possible words =    1 | Computer guesses \"tangy\" | Hint = ooooo\n"
     ]
    }
   ],
   "source": [
    "rg = ReverseGame()\n",
    "turn = 1\n",
    "while not rg.finished():\n",
    "    guess = better_strat(rg, use_all_words=True)\n",
    "    hint = input(f'Turn {turn} | Possible words = {len(rg.possible_words):4d} | Computer guesses \"{guess}\" | Hint = ')\n",
    "    hint = hint.upper()\n",
    "    if len(hint) == 5 and set(hint).issubset({'O', 'X', '-'}):\n",
    "        rg.update_hint(guess, hint)\n",
    "        turn += 1"
   ]
  },
  {
   "cell_type": "code",
   "execution_count": null,
   "id": "4ab536c8",
   "metadata": {},
   "outputs": [],
   "source": []
  },
  {
   "cell_type": "markdown",
   "id": "71078059",
   "metadata": {},
   "source": [
    "## Guess diagnostics - how good is a certain guess, based on how well it can filter out words"
   ]
  },
  {
   "cell_type": "code",
   "execution_count": 200,
   "id": "00128624",
   "metadata": {
    "scrolled": false
   },
   "outputs": [
    {
     "name": "stdout",
     "output_type": "stream",
     "text": [
      "Word = lares\n",
      "Mean remaining feasible words = 193.59118371000224\n",
      "('-----', 576)\n",
      "('----O', 509)\n",
      "('---X-', 366)\n",
      "('---O-', 263)\n",
      "('-X---', 253)\n",
      "('-O---', 252)\n",
      "('---OO', 236)\n",
      "('--XO-', 234)\n",
      "('----X', 232)\n",
      "('X----', 225)\n",
      "('--X--', 218)\n",
      "('-O--O', 208)\n",
      "('-X--O', 203)\n",
      "('XX---', 196)\n",
      "('---XO', 193)\n",
      "('--XX-', 188)\n",
      "('X---O', 182)\n",
      "('-XX--', 167)\n",
      "('X--X-', 162)\n",
      "('---XX', 161)\n",
      "('-X-X-', 154)\n",
      "('--X-O', 118)\n",
      "('-X--X', 116)\n",
      "('-XXX-', 111)\n",
      "('-O-OO', 98)\n",
      "('--O-O', 98)\n",
      "('-O-O-', 97)\n",
      "('XX-X-', 94)\n",
      "('X--O-', 89)\n",
      "('--O--', 89)\n",
      "('XO---', 77)\n",
      "('-OXO-', 77)\n",
      "('-XX-O', 75)\n",
      "('XX--O', 73)\n",
      "('X---X', 70)\n",
      "('X--XO', 69)\n",
      "('--OX-', 69)\n",
      "('-O--X', 68)\n",
      "('-X-XX', 67)\n",
      "('---OX', 66)\n",
      "('-OX--', 63)\n",
      "('-OO-O', 62)\n",
      "('--XXO', 62)\n",
      "('--X-X', 61)\n",
      "('-X-XO', 57)\n",
      "('XO--O', 57)\n",
      "('-OO--', 56)\n",
      "('O---O', 51)\n",
      "('O----', 48)\n",
      "('-XO--', 47)\n",
      "('XX--X', 47)\n",
      "('XXX--', 46)\n",
      "('-O-X-', 44)\n",
      "('--XOO', 41)\n",
      "('X--OO', 40)\n",
      "('--XXX', 40)\n",
      "('X-X--', 39)\n",
      "('--O-X', 39)\n",
      "('-XX-X', 38)\n",
      "('X--XX', 38)\n",
      "('--OO-', 37)\n",
      "('--XOX', 37)\n",
      "('--OXO', 36)\n",
      "('X-XO-', 36)\n",
      "('--OOO', 32)\n",
      "('-OX-O', 31)\n",
      "('O--O-', 28)\n",
      "('--OXX', 26)\n",
      "('OX---', 25)\n",
      "('O--X-', 24)\n",
      "('O--OO', 24)\n",
      "('-XXXX', 23)\n",
      "('-OOO-', 23)\n",
      "('-X-O-', 22)\n",
      "('-XXXO', 21)\n",
      "('XO--X', 20)\n",
      "('-O-XX', 20)\n",
      "('OO---', 20)\n",
      "('-XO-O', 18)\n",
      "('-XXO-', 18)\n",
      "('XX-XX', 18)\n",
      "('-X-OO', 17)\n",
      "('X--OX', 17)\n",
      "('XXXX-', 16)\n",
      "('XO-O-', 16)\n",
      "('-OOX-', 16)\n",
      "('-XO-X', 16)\n",
      "('--OOX', 16)\n",
      "('-XOX-', 15)\n",
      "('XX-XO', 15)\n",
      "('OO-O-', 15)\n",
      "('O-XO-', 15)\n",
      "('XO-X-', 14)\n",
      "('X-XX-', 14)\n",
      "('OO--O', 14)\n",
      "('OX-X-', 14)\n",
      "('O--XO', 14)\n",
      "('XX-O-', 13)\n",
      "('XXO--', 12)\n",
      "('-O-OX', 12)\n",
      "('-OXOX', 12)\n",
      "('X-O-O', 12)\n",
      "('-OXX-', 12)\n",
      "('XO-OO', 11)\n",
      "('-OOOO', 11)\n",
      "('OX--O', 10)\n",
      "('-OXOO', 10)\n",
      "('-OO-X', 9)\n",
      "('OOXO-', 9)\n",
      "('OO-OO', 9)\n",
      "('-X-OX', 8)\n",
      "('X-X-O', 8)\n",
      "('OXX--', 8)\n",
      "('XOX--', 8)\n",
      "('-OX-X', 8)\n",
      "('-XOO-', 7)\n",
      "('XOXO-', 7)\n",
      "('X-OX-', 7)\n",
      "('OOX--', 7)\n",
      "('X-O--', 6)\n",
      "('OO-X-', 6)\n",
      "('OOO--', 6)\n",
      "('O--XX', 6)\n",
      "('XXXO-', 5)\n",
      "('XOO-O', 5)\n",
      "('OX-XO', 5)\n",
      "('O-XX-', 5)\n",
      "('O-O--', 5)\n",
      "('X-X-X', 5)\n",
      "('XX-OO', 4)\n",
      "('XXX-O', 4)\n",
      "('XOOX-', 4)\n",
      "('-OOXX', 4)\n",
      "('XO-XX', 4)\n",
      "('OX-XX', 4)\n",
      "('O---X', 4)\n",
      "('X-XOO', 4)\n",
      "('-XOOO', 3)\n",
      "('-XXOX', 3)\n",
      "('XOO--', 3)\n",
      "('-O-XO', 3)\n",
      "('OOO-O', 3)\n",
      "('O-XXO', 3)\n",
      "('O-O-O', 3)\n",
      "('O-OOO', 3)\n",
      "('O-OO-', 3)\n",
      "('-XXOO', 2)\n",
      "('XO-OX', 2)\n",
      "('X-OXO', 2)\n",
      "('X-OO-', 2)\n",
      "('OO--X', 2)\n",
      "('OXXX-', 2)\n",
      "('O-X--', 2)\n",
      "('OXO--', 2)\n",
      "('O--OX', 2)\n",
      "('OX-O-', 2)\n",
      "('-OXXX', 2)\n",
      "('X-XXO', 2)\n",
      "('-XOXX', 2)\n",
      "('X-XOX', 2)\n",
      "('XXX-X', 2)\n",
      "('XXXOO', 1)\n",
      "('XOOXO', 1)\n",
      "('-OOXO', 1)\n",
      "('-XOXO', 1)\n",
      "('XXOX-', 1)\n",
      "('OOX-O', 1)\n",
      "('OO-XX', 1)\n",
      "('OOOO-', 1)\n",
      "('OOOOO', 1)\n",
      "('OOOX-', 1)\n",
      "('OO-OX', 1)\n",
      "('OOXOX', 1)\n",
      "('OXXXO', 1)\n",
      "('OXX-O', 1)\n",
      "('OXO-O', 1)\n",
      "('O-XOX', 1)\n",
      "('O-X-O', 1)\n",
      "('OX--X', 1)\n",
      "('XOX-O', 1)\n",
      "('XOXOO', 1)\n",
      "('XXXXO', 1)\n",
      "('-OOOX', 1)\n",
      "('XXOXX', 1)\n",
      "('X-OOX', 1)\n",
      "('XXO-X', 1)\n",
      "('X-O-X', 1)\n",
      "('XO-XO', 1)\n"
     ]
    }
   ],
   "source": [
    "guess = 'lares'\n",
    "\n",
    "counter = dict()\n",
    "for targ in words:\n",
    "    hint = get_hint(targ, guess)\n",
    "    if hint in counter.keys():\n",
    "        counter[hint] += 1\n",
    "    else:\n",
    "        counter[hint] = 1\n",
    "score = sum(x**2 for x in counter.values()) / len(words)\n",
    "\n",
    "print(\"Word =\", guess)\n",
    "print(\"Mean remaining feasible words =\", score)\n",
    "counter_lst = [(k, counter[k]) for k in counter.keys()]\n",
    "counter_lst.sort(key=lambda x: -x[1])\n",
    "for kv in counter_lst:\n",
    "    print(kv)"
   ]
  },
  {
   "cell_type": "code",
   "execution_count": null,
   "id": "8d46b8db",
   "metadata": {},
   "outputs": [],
   "source": []
  },
  {
   "cell_type": "markdown",
   "id": "a5f4b124",
   "metadata": {},
   "source": [
    "## Calculating the good guesses and bad guesses"
   ]
  },
  {
   "cell_type": "code",
   "execution_count": 57,
   "id": "9478ffc7",
   "metadata": {},
   "outputs": [
    {
     "name": "stderr",
     "output_type": "stream",
     "text": [
      "100%|██████████| 8938/8938 [03:12<00:00, 46.32it/s]\n"
     ]
    }
   ],
   "source": [
    "good_guess = []\n",
    "bad_guess = []\n",
    "\n",
    "for guess in tqdm.tqdm(words):\n",
    "    counter = dict()\n",
    "    for targ in words:\n",
    "        hint = hint_dict[targ, guess]\n",
    "        if hint in counter.keys():\n",
    "            counter[hint] += 1\n",
    "        else:\n",
    "            counter[hint] = 1\n",
    "    score = sum(x**2 for x in counter.values()) / len(words)\n",
    "    if score < 0.03 * len(words):  # good guess = expected to filter down to 3% words remaining (arbitary percentage)\n",
    "        good_guess.append((guess, score))\n",
    "    elif score > 0.3 * len(words):  # bad guess = expected to filter down to more than 30% (arbitrary percentage)\n",
    "        bad_guess.append((guess, score))"
   ]
  },
  {
   "cell_type": "code",
   "execution_count": 58,
   "id": "077f19dc",
   "metadata": {},
   "outputs": [
    {
     "name": "stdout",
     "output_type": "stream",
     "text": [
      "('lares', 193.59118371000224)\n",
      "('rales', 195.73595882747819)\n",
      "('tares', 205.4338778250168)\n",
      "('arles', 205.81270977847393)\n",
      "('nares', 209.0597449093757)\n",
      "('rates', 210.9941821436563)\n",
      "('saner', 214.1709554710226)\n",
      "('serai', 214.456477959275)\n",
      "('aloes', 216.19803087939135)\n",
      "('tales', 216.81024837771312)\n",
      "('reals', 219.70418438129335)\n",
      "('lears', 221.92817185052584)\n",
      "('lanes', 223.48109196688299)\n",
      "('seral', 224.29402550906244)\n",
      "('lores', 227.10472141418663)\n",
      "('roles', 229.8048780487805)\n",
      "('earls', 231.0895054822108)\n",
      "('sorel', 232.52248825240545)\n",
      "('cares', 234.8655180129783)\n",
      "('raise', 235.145222644887)\n",
      "('tears', 236.21056164690089)\n",
      "('laser', 236.53658536585365)\n",
      "('aures', 237.72051913179683)\n",
      "('riles', 238.9850078317297)\n",
      "('nates', 239.73081226225105)\n",
      "('nears', 240.12575520250616)\n",
      "('dares', 240.26941150145447)\n",
      "('orles', 241.3327366301186)\n",
      "('aeons', 242.00044752741104)\n",
      "('races', 242.2141418661893)\n",
      "('tores', 243.97672857462518)\n",
      "('teals', 245.65831282166033)\n",
      "('toeas', 246.3394495412844)\n",
      "('mares', 247.15618706645782)\n",
      "('stoae', 247.2031774446185)\n",
      "('pares', 248.1568583575744)\n",
      "('earns', 248.84202282389796)\n",
      "('hares', 250.69501006936676)\n",
      "('slier', 250.92123517565452)\n",
      "('solei', 251.06354889236965)\n",
      "('sayer', 251.18796151264266)\n",
      "('rotes', 251.42895502349518)\n",
      "('leans', 252.261579771761)\n",
      "('tires', 252.2772432311479)\n",
      "('dales', 252.3808458268069)\n",
      "('laris', 253.67778026404116)\n",
      "('snare', 253.99037816066235)\n",
      "('stare', 254.26515999104944)\n",
      "('taels', 254.54822107854105)\n",
      "('rapes', 255.398299395838)\n",
      "('rails', 256.2987245468785)\n",
      "('lades', 257.3933765943164)\n",
      "('tries', 257.81740881629)\n",
      "('dates', 258.0865965540389)\n",
      "('toles', 258.95166703960615)\n",
      "('lairs', 259.6265383754755)\n",
      "('acres', 260.1823674200045)\n",
      "('slate', 260.3204296263146)\n",
      "('laces', 260.6258670843589)\n",
      "('aides', 260.7869769523383)\n",
      "('setal', 260.94898187513985)\n",
      "('rites', 261.92414410382634)\n",
      "('arose', 262.22130230476614)\n",
      "('sated', 263.0)\n",
      "('taros', 263.0848064443947)\n",
      "('saice', 263.244573730141)\n",
      "('siren', 263.2562094428284)\n",
      "('antes', 263.45110763034234)\n",
      "('taces', 263.4763929290669)\n",
      "('roues', 263.67487133586934)\n",
      "('cates', 263.8541060639964)\n",
      "('bares', 263.85791004699036)\n",
      "('rages', 265.0977847393153)\n",
      "('dears', 265.1069590512419)\n",
      "('arise', 266.20116357126875)\n",
      "('liras', 267.4614007607966)\n",
      "('canes', 267.53166256433207)\n"
     ]
    }
   ],
   "source": [
    "good_guess.sort(key=lambda x: x[1])\n",
    "for x in good_guess:\n",
    "    print(x)"
   ]
  },
  {
   "cell_type": "code",
   "execution_count": 59,
   "id": "5dc99cfb",
   "metadata": {},
   "outputs": [
    {
     "name": "stdout",
     "output_type": "stream",
     "text": [
      "('xylyl', 3647.4936227343924)\n",
      "('immix', 3566.0203624972028)\n",
      "('fuzzy', 3540.9935108525397)\n",
      "('yukky', 3524.980756321325)\n",
      "('bubby', 3497.5048109196687)\n",
      "('jugum', 3460.0214813157304)\n",
      "('yummy', 3282.5627657194004)\n",
      "('mummy', 3279.3125978966214)\n",
      "('yuppy', 3241.397628104721)\n",
      "('puppy', 3231.903557842918)\n",
      "('fluff', 3159.5012307003803)\n",
      "('civic', 3147.9501006936675)\n",
      "('muzzy', 3118.1678227791454)\n",
      "('kudzu', 3114.0928619377937)\n",
      "('boffo', 3110.5497874244797)\n",
      "('oxbow', 3079.5406131125533)\n",
      "('kibbi', 3075.7934660997985)\n",
      "('jinni', 3062.4179906019244)\n",
      "('whizz', 3055.153278138286)\n",
      "('vivid', 3040.616916536138)\n",
      "('phpht', 3036.277019467442)\n",
      "('vuggy', 3033.7496084135155)\n",
      "('duddy', 2959.1221749832175)\n",
      "('buffy', 2952.2821660326695)\n",
      "('fuggy', 2935.4282837323785)\n",
      "('chuff', 2875.455582904453)\n",
      "('jiffy', 2867.2933542179458)\n",
      "('fizzy', 2854.266055045872)\n",
      "('butut', 2836.0801074065785)\n",
      "('zizit', 2815.8740210337883)\n",
      "('huffy', 2799.8167375251733)\n",
      "('chuck', 2775.521816961289)\n",
      "('quiff', 2769.2503915864845)\n",
      "('mamma', 2762.990378160662)\n",
      "('bobby', 2748.1183710002238)\n",
      "('buggy', 2735.186395166704)\n",
      "('woozy', 2721.6652494965315)\n",
      "('pygmy', 2718.7637055269633)\n",
      "('puffy', 2717.1203848735736)\n",
      "('whiff', 2713.1154620720517)\n",
      "('yobbo', 2703.9163123741328)\n",
      "('infix', 2700.842022823898)\n"
     ]
    }
   ],
   "source": [
    "bad_guess.sort(key=lambda x: -x[1])\n",
    "for x in bad_guess:\n",
    "    print(x)"
   ]
  },
  {
   "cell_type": "code",
   "execution_count": null,
   "id": "f8159c1d",
   "metadata": {},
   "outputs": [],
   "source": []
  },
  {
   "cell_type": "code",
   "execution_count": null,
   "id": "dfcc035a",
   "metadata": {},
   "outputs": [],
   "source": []
  }
 ],
 "metadata": {
  "kernelspec": {
   "display_name": "Python 3",
   "language": "python",
   "name": "python3"
  },
  "language_info": {
   "codemirror_mode": {
    "name": "ipython",
    "version": 3
   },
   "file_extension": ".py",
   "mimetype": "text/x-python",
   "name": "python",
   "nbconvert_exporter": "python",
   "pygments_lexer": "ipython3",
   "version": "3.7.10"
  }
 },
 "nbformat": 4,
 "nbformat_minor": 5
}
